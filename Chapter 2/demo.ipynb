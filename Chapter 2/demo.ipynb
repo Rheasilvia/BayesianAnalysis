{
 "cells": [
  {
   "cell_type": "code",
   "execution_count": 1,
   "metadata": {
    "collapsed": true
   },
   "outputs": [],
   "source": [
    "import numpy as np\n",
    "import matplotlib.pyplot as plt"
   ]
  },
  {
   "cell_type": "code",
   "execution_count": 2,
   "metadata": {},
   "outputs": [
    {
     "data": {
      "text/plain": [
       "<matplotlib.legend.Legend at 0x10948fcf8>"
      ]
     },
     "execution_count": 2,
     "metadata": {},
     "output_type": "execute_result"
    }
   ],
   "source": [
    "N = 10000\n",
    "\n",
    "x,y = np.random.uniform(-1,1,size=(2,N))\n",
    "inside = (x**2 + y**2) <= 1\n",
    "pi = inside.sum() * 4/N\n",
    "error = abs((pi - np.pi)/pi) *100\n",
    "\n",
    "outside = np.invert(inside)\n",
    "\n",
    "plt.plot(x[inside],y[inside],'b.')\n",
    "plt.plot(x[outside],y[outside],'r.')\n",
    "plt.plot(0,0,label='$\\hat \\pi$ = {:4.3f}\\nerror = {:4.3f}%'.format(pi,error),alpha=0)\n",
    "plt.axis('square')\n",
    "plt.legend(frameon=True,framealpha=0.9,fontsize=16)"
   ]
  },
  {
   "cell_type": "markdown",
   "metadata": {},
   "source": [
    "### Metropolis-Hasting算法 "
   ]
  },
  {
   "cell_type": "code",
   "execution_count": 12,
   "metadata": {
    "collapsed": true
   },
   "outputs": [],
   "source": [
    "def metropolis(func, steps = 100000):\n",
    "    \"\"\"A very simple Metropolis implementation \"\"\"\n",
    "    samples = np.zeros(steps)\n",
    "    old_x = func.mean()\n",
    "    old_prob = func.pdf(old_x) #PDF概率密度函数\n",
    "    \n",
    "    for i in range(steps):\n",
    "        new_x = old_x + np.random.normal(0, 0.5)\n",
    "        new_prob = func.pdf(new_x)\n",
    "        acceptance = new_prob / new_x\n",
    "        if acceptance >= np.random.random():\n",
    "            samples[i] = new_x\n",
    "            old_x = new_x\n",
    "            old_prob = new_prob\n",
    "        else:\n",
    "            samples[i] = old_x\n",
    "    return samples\n",
    "        "
   ]
  },
  {
   "cell_type": "code",
   "execution_count": 14,
   "metadata": {},
   "outputs": [
    {
     "data": {
      "image/png": "[encoded data removed]",
      "text/plain": [
       "<matplotlib.figure.Figure at 0x10d1a02b0>"
      ]
     },
     "metadata": {},
     "output_type": "display_data"
    }
   ],
   "source": [
    "from scipy import stats\n",
    "\n",
    "func = stats.beta(0.4,2)\n",
    "samples = metropolis(func=func)\n",
    "x = np.linspace(0.01, .99, 100)\n",
    "y = func.pdf(x)\n",
    "plt.xlim(0,1)\n",
    "plt.plot(x, y, 'r-', lw=3, label = 'True distribution')\n",
    "plt.hist(samples, bins=30,  normed=True, label='Estimated distribution')\n",
    "plt.xlabel('$x$', fontsize=14)\n",
    "plt.ylabel('$pdf(x)$',fontsize=14)\n",
    "plt.legend(fontsize=14)\n",
    "\n",
    "plt.show()"
   ]
  },
  {
   "cell_type": "code",
   "execution_count": null,
   "metadata": {
    "collapsed": true
   },
   "outputs": [],
   "source": []
  }
 ],
 "metadata": {
  "kernelspec": {
   "display_name": "Python 3",
   "language": "python",
   "name": "python3"
  },
  "language_info": {
   "codemirror_mode": {
    "name": "ipython",
    "version": 3
   },
   "file_extension": ".py",
   "mimetype": "text/x-python",
   "name": "python",
   "nbconvert_exporter": "python",
   "pygments_lexer": "ipython3",
   "version": "3.6.2"
  }
 },
 "nbformat": 4,
 "nbformat_minor": 2
}
