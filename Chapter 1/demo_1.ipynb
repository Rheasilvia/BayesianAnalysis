{
 "cells": [
  {
   "cell_type": "code",
   "execution_count": 1,
   "metadata": {
    "collapsed": true
   },
   "outputs": [],
   "source": [
    "##分析1959-1997大气中二氧化碳的含量\n",
    "import matplotlib.pyplot as plt\n",
    "import numpy as np\n",
    "from scipy import stats\n",
    "import seaborn as sns\n"
   ]
  },
  {
   "cell_type": "code",
   "execution_count": 10,
   "metadata": {},
   "outputs": [],
   "source": [
    "mu_params = [-1, 0, 1]\n",
    "sd_params = [0.5, 1, 1.5]\n",
    "x = np.linspace(-7, 7, 100)\n",
    "f, ax = plt.subplots(len(mu_params), len(sd_params), sharex=True, sharey=True)\n",
    "for i in range(3):\n",
    "    for j in range(3):\n",
    "        mu = mu_params[i]\n",
    "        sd = sd_params[j]\n",
    "        y = stats.norm(mu, sd).pdf(x)\n",
    "        ax[i,j].plot(x,y)\n",
    "        ax[i,j].plot(0,0,label=\"$\\\\mu$={:3.2f}\\n$\\\\sigma$={:3.2f}\".format(mu,sd),alpha=0)\n",
    "        ax[i,j].legend(fontsize=12)\n",
    "ax[2,1].set_xlabel('$x$',fontsize=16)\n",
    "ax[1,0].set_ylabel('$pdf(x)$',fontsize=16)\n",
    "plt.tight_layout()\n",
    "plt.show()"
   ]
  },
  {
   "cell_type": "code",
   "execution_count": 21,
   "metadata": {},
   "outputs": [],
   "source": [
    "data = np.genfromtxt('Chapter 1/mauna_loa_CO2.csv', delimiter=',')\n",
    "plt.plot(data[:, 0], data[:, 1])\n",
    "plt.xlabel('$year$')\n",
    "plt.ylabel('$CO_2 (ppmv)$')\n",
    "plt.show()\n"
   ]
  },
  {
   "cell_type": "code",
   "execution_count": null,
   "metadata": {},
   "outputs": [],
   "source": []
  }
 ],
 "metadata": {
  "kernelspec": {
   "display_name": "Python 2",
   "language": "python",
   "name": "python2"
  },
  "language_info": {
   "codemirror_mode": {
    "name": "ipython",
    "version": 2
   },
   "file_extension": ".py",
   "mimetype": "text/x-python",
   "name": "python",
   "nbconvert_exporter": "python",
   "pygments_lexer": "ipython2",
   "version": "2.7.6"
  }
 },
 "nbformat": 4,
 "nbformat_minor": 0
}
